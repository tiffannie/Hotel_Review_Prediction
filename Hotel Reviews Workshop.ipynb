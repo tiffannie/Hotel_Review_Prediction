{
 "cells": [
  {
   "cell_type": "code",
   "execution_count": 1,
   "metadata": {
    "collapsed": true
   },
   "outputs": [],
   "source": [
    "import pandas as pd\n",
    "import numpy as np\n",
    "import matplotlib.pyplot as plt\n",
    "import scipy\n",
    "import sklearn\n",
    "import seaborn as sns\n",
    "import re\n",
    "import sklearn\n",
    "import seaborn as sns\n",
    "import re\n",
    "from collections import Counter\n",
    "%matplotlib inline"
   ]
  },
  {
   "cell_type": "code",
   "execution_count": 2,
   "metadata": {
    "collapsed": true
   },
   "outputs": [],
   "source": [
    "# Import the Data Set\n",
    "data = pd.read_csv('https://github.com/Thinkful-Ed/data-201-resources/raw/master/hotel-reviews.csv')"
   ]
  },
  {
   "cell_type": "code",
   "execution_count": 4,
   "metadata": {},
   "outputs": [],
   "source": [
    "# Perform some basic cleaning and character removal\n",
    "\n",
    "# Make everything lower case\n",
    "data['reviews.text'] = data['reviews.text'].str.lower()\n",
    "\n",
    "# Remove non-text characters\n",
    "data['reviews.text'] = data['reviews.text'].str.replace(r'\\.|\\!|\\?|\\'|,|-|\\(|\\)', \"\",)\n",
    "\n",
    "# Fill in black reviews with '' rather than Null (which would give us errors)\n",
    "data['reviews.text'] = data['reviews.text'].fillna('')\n",
    "\n",
    "'''\n",
    "Basic rules to natural language processing. we are looking to find words with the strongest meanings\n",
    "'''\n",
    "# print data.dtypes\n",
    "# print data['address'].value_counts()\n",
    "    "
   ]
  },
  {
   "cell_type": "code",
   "execution_count": 5,
   "metadata": {
    "collapsed": true
   },
   "outputs": [],
   "source": [
    "'''\n",
    "you lose meaning by vectorizing. it can be a weakness. What about relative frequency? or context?\n",
    "number of times out of total number of words that the word appears- rel. freq.\n",
    "\n",
    "use rel. freq. because it normalizes the data\n",
    "\n",
    "to deal with anomalies or outliers, make sure you understand the distribution of your data. you make \n",
    "the decision of whether or not it is worth keeping outliers.\n",
    "\n",
    "to maintain context, consider using n-grams or using each feature as a set of words tather than \n",
    "individual words. https://www.wikiwand.com/en/N-gram\n",
    "\n",
    "'''\n",
    "\n",
    "# Import and initiate a vectorizer\n",
    "from sklearn.feature_extraction.text import CountVectorizer\n",
    "# The max features is how many words we want to allow us to create columns for\n",
    "vectorizer = CountVectorizer(max_features=5000)\n",
    "#so do we only get 5000 words? or what does 5000\n",
    "#only count up to 5000 words. limit num of columns created\n",
    "#coding the words into 1's and 0's \n",
    "#one word could be (00010)\n",
    "#another could be (100000)"
   ]
  },
  {
   "cell_type": "code",
   "execution_count": 6,
   "metadata": {
    "collapsed": true
   },
   "outputs": [],
   "source": [
    "# Vectorize our reviews to transform sentences into columns\n",
    "X = vectorizer.fit_transform(data['reviews.text'])\n",
    "\n",
    "# And then put all of that in a table\n",
    "bag_of_words = pd.DataFrame(X.toarray(), columns=vectorizer.get_feature_names())"
   ]
  },
  {
   "cell_type": "code",
   "execution_count": 7,
   "metadata": {
    "collapsed": true
   },
   "outputs": [],
   "source": [
    "# Rename some columns for clarity\n",
    "data.rename(columns={'address': 'hotel_address', 'city': 'hotel_city',\n",
    "                     'country':'hotel_country', 'name':'hotel_name'},\n",
    "            inplace=True)\n",
    "\n",
    "# Join our bag of words back to our initial hotel data\n",
    "full_df = data.join(bag_of_words)"
   ]
  },
  {
   "cell_type": "code",
   "execution_count": 8,
   "metadata": {
    "collapsed": true
   },
   "outputs": [],
   "source": [
    "# X is our words\n",
    "X = bag_of_words\n",
    "\n",
    "# Y is our hotel name (the outcome we care about)\n",
    "Y_hotel = data['hotel_name']"
   ]
  },
  {
   "cell_type": "code",
   "execution_count": 9,
   "metadata": {},
   "outputs": [
    {
     "data": {
      "text/plain": [
       "RandomForestClassifier(bootstrap=True, class_weight=None, criterion='gini',\n",
       "            max_depth=None, max_features='auto', max_leaf_nodes=None,\n",
       "            min_impurity_split=1e-07, min_samples_leaf=1,\n",
       "            min_samples_split=2, min_weight_fraction_leaf=0.0,\n",
       "            n_estimators=10, n_jobs=1, oob_score=False, random_state=None,\n",
       "            verbose=0, warm_start=False)"
      ]
     },
     "execution_count": 9,
     "metadata": {},
     "output_type": "execute_result"
    }
   ],
   "source": [
    "# Import a random forest model\n",
    "'''\n",
    "you can use Nbayes, logistic regression, or any other word to vector type models\n",
    "model --> word2vec (tensorflow)/RNN (gives position/spacing of words)\n",
    "text --> gensim\n",
    "'''\n",
    "\n",
    "from sklearn.ensemble import RandomForestClassifier\n",
    "rfc = RandomForestClassifier()\n",
    "\n",
    "# Fit that random forest model to our data\n",
    "rfc.fit(X,Y_hotel)"
   ]
  },
  {
   "cell_type": "code",
   "execution_count": 10,
   "metadata": {
    "collapsed": true
   },
   "outputs": [],
   "source": [
    "# Write your own dream vacation review here...\n",
    "test_review = ['''\n",
    "    I loved the beach and the sunshine and the clean and modern room.\n",
    "    ''']"
   ]
  },
  {
   "cell_type": "code",
   "execution_count": 11,
   "metadata": {
    "collapsed": true
   },
   "outputs": [],
   "source": [
    "# Convert your test review into a vector\n",
    "X_test = vectorizer.transform(test_review).toarray()"
   ]
  },
  {
   "cell_type": "code",
   "execution_count": 12,
   "metadata": {
    "collapsed": true
   },
   "outputs": [],
   "source": [
    "# Match your review\n",
    "prediction = rfc.predict(X_test)[0]"
   ]
  },
  {
   "cell_type": "code",
   "execution_count": 14,
   "metadata": {},
   "outputs": [
    {
     "data": {
      "text/html": [
       "<div>\n",
       "<style>\n",
       "    .dataframe thead tr:only-child th {\n",
       "        text-align: right;\n",
       "    }\n",
       "\n",
       "    .dataframe thead th {\n",
       "        text-align: left;\n",
       "    }\n",
       "\n",
       "    .dataframe tbody tr th {\n",
       "        vertical-align: top;\n",
       "    }\n",
       "</style>\n",
       "<table border=\"1\" class=\"dataframe\">\n",
       "  <thead>\n",
       "    <tr style=\"text-align: right;\">\n",
       "      <th></th>\n",
       "      <th>hotel_name</th>\n",
       "      <th>hotel_address</th>\n",
       "      <th>hotel_city</th>\n",
       "      <th>hotel_country</th>\n",
       "    </tr>\n",
       "  </thead>\n",
       "  <tbody>\n",
       "    <tr>\n",
       "      <th>33706</th>\n",
       "      <td>Casa Del Mar Inn Bandb</td>\n",
       "      <td>18 Bath St</td>\n",
       "      <td>Santa Barbara</td>\n",
       "      <td>US</td>\n",
       "    </tr>\n",
       "  </tbody>\n",
       "</table>\n",
       "</div>"
      ],
      "text/plain": [
       "                   hotel_name hotel_address     hotel_city hotel_country\n",
       "33706  Casa Del Mar Inn Bandb    18 Bath St  Santa Barbara            US"
      ]
     },
     "execution_count": 14,
     "metadata": {},
     "output_type": "execute_result"
    }
   ],
   "source": [
    "# Return the essential information about your match\n",
    "data[data['hotel_name'] == prediction][['hotel_name', 'hotel_address', \n",
    "                                        'hotel_city', 'hotel_country']].head(1)"
   ]
  },
  {
   "cell_type": "code",
   "execution_count": null,
   "metadata": {
    "collapsed": true
   },
   "outputs": [],
   "source": []
  }
 ],
 "metadata": {
  "kernelspec": {
   "display_name": "Python 3",
   "language": "python",
   "name": "python3"
  },
  "language_info": {
   "codemirror_mode": {
    "name": "ipython",
    "version": 3
   },
   "file_extension": ".py",
   "mimetype": "text/x-python",
   "name": "python",
   "nbconvert_exporter": "python",
   "pygments_lexer": "ipython3",
   "version": "3.6.1"
  }
 },
 "nbformat": 4,
 "nbformat_minor": 2
}
